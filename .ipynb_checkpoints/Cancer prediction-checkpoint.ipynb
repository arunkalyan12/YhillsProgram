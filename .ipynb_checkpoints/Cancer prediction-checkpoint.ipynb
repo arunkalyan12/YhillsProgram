{
 "cells": [
  {
   "cell_type": "code",
   "execution_count": 1,
   "id": "6414b287",
   "metadata": {},
   "outputs": [],
   "source": [
    "#import all the required libries\n",
    "\n",
    "#data analysis and visualisation\n",
    "import pandas as pd\n",
    "import numpy as np\n",
    "import matplotlib.pyplot as plt\n",
    "import seaborn as sns\n",
    "\n",
    "#classifiers\n",
    "from sklearn.ensemble import AdaBoostClassifier, GradientBoostingClassifier, RandomForestClassifier\n",
    "from sklearn.linear_model import LogisticRegression\n",
    "from sklearn.neighbors import KNeighborsClassifier\n",
    "from sklearn.tree import DecisionTreeClassifier\n",
    "\n",
    "#Data Processing Function\n",
    "from sklearn.model_selection import train_test_split\n",
    "from sklearn.preprocessing import LabelEncoder\n",
    "le = LabelEncoder()\n",
    "\n",
    "import warnings\n",
    "warnings.filterwarnings('ignore')\n",
    "\n",
    "pd.set_option('display.max_columns',None)\n",
    "pd.set_option('display.max_rows',None)"
   ]
  },
  {
   "cell_type": "code",
   "execution_count": 4,
   "id": "14028a44",
   "metadata": {},
   "outputs": [],
   "source": [
    "url =('https://raw.githubusercontent.com/jbit22756/YhillsPtogram/main/Datasets-main/cancer_prediction_dataset.csv?token=GHSAT0AAAAAACH74RDWNGM2NVQRTC7LUVKAZK6KPWA')\n",
    "df = pd.read_csv(url)\n"
   ]
  },
  {
   "cell_type": "code",
   "execution_count": 5,
   "id": "ccfdca76",
   "metadata": {},
   "outputs": [
    {
     "data": {
      "text/html": [
       "<div>\n",
       "<style scoped>\n",
       "    .dataframe tbody tr th:only-of-type {\n",
       "        vertical-align: middle;\n",
       "    }\n",
       "\n",
       "    .dataframe tbody tr th {\n",
       "        vertical-align: top;\n",
       "    }\n",
       "\n",
       "    .dataframe thead th {\n",
       "        text-align: right;\n",
       "    }\n",
       "</style>\n",
       "<table border=\"1\" class=\"dataframe\">\n",
       "  <thead>\n",
       "    <tr style=\"text-align: right;\">\n",
       "      <th></th>\n",
       "      <th>Gender</th>\n",
       "      <th>Age</th>\n",
       "      <th>Smoking</th>\n",
       "      <th>Fatigue</th>\n",
       "      <th>Allergy</th>\n",
       "      <th>Cancer</th>\n",
       "    </tr>\n",
       "  </thead>\n",
       "  <tbody>\n",
       "    <tr>\n",
       "      <th>6929</th>\n",
       "      <td>0</td>\n",
       "      <td>50</td>\n",
       "      <td>0</td>\n",
       "      <td>0</td>\n",
       "      <td>0</td>\n",
       "      <td>0</td>\n",
       "    </tr>\n",
       "    <tr>\n",
       "      <th>6849</th>\n",
       "      <td>0</td>\n",
       "      <td>81</td>\n",
       "      <td>0</td>\n",
       "      <td>1</td>\n",
       "      <td>0</td>\n",
       "      <td>0</td>\n",
       "    </tr>\n",
       "    <tr>\n",
       "      <th>3168</th>\n",
       "      <td>0</td>\n",
       "      <td>21</td>\n",
       "      <td>1</td>\n",
       "      <td>0</td>\n",
       "      <td>0</td>\n",
       "      <td>0</td>\n",
       "    </tr>\n",
       "    <tr>\n",
       "      <th>6995</th>\n",
       "      <td>0</td>\n",
       "      <td>97</td>\n",
       "      <td>1</td>\n",
       "      <td>0</td>\n",
       "      <td>1</td>\n",
       "      <td>1</td>\n",
       "    </tr>\n",
       "    <tr>\n",
       "      <th>3400</th>\n",
       "      <td>1</td>\n",
       "      <td>82</td>\n",
       "      <td>1</td>\n",
       "      <td>1</td>\n",
       "      <td>1</td>\n",
       "      <td>0</td>\n",
       "    </tr>\n",
       "  </tbody>\n",
       "</table>\n",
       "</div>"
      ],
      "text/plain": [
       "      Gender  Age  Smoking  Fatigue  Allergy  Cancer\n",
       "6929       0   50        0        0        0       0\n",
       "6849       0   81        0        1        0       0\n",
       "3168       0   21        1        0        0       0\n",
       "6995       0   97        1        0        1       1\n",
       "3400       1   82        1        1        1       0"
      ]
     },
     "execution_count": 5,
     "metadata": {},
     "output_type": "execute_result"
    }
   ],
   "source": [
    "df.sample(5)"
   ]
  },
  {
   "cell_type": "code",
   "execution_count": 6,
   "id": "01f9670a",
   "metadata": {},
   "outputs": [
    {
     "data": {
      "text/plain": [
       "(10000, 6)"
      ]
     },
     "execution_count": 6,
     "metadata": {},
     "output_type": "execute_result"
    }
   ],
   "source": [
    "df.shape"
   ]
  },
  {
   "cell_type": "code",
   "execution_count": 7,
   "id": "94c0d0cf",
   "metadata": {},
   "outputs": [
    {
     "data": {
      "text/plain": [
       "Gender     int64\n",
       "Age        int64\n",
       "Smoking    int64\n",
       "Fatigue    int64\n",
       "Allergy    int64\n",
       "Cancer     int64\n",
       "dtype: object"
      ]
     },
     "execution_count": 7,
     "metadata": {},
     "output_type": "execute_result"
    }
   ],
   "source": [
    "df.dtypes"
   ]
  },
  {
   "cell_type": "code",
   "execution_count": 8,
   "id": "d87e084e",
   "metadata": {},
   "outputs": [
    {
     "data": {
      "text/plain": [
       "Index(['Gender', 'Age', 'Smoking', 'Fatigue', 'Allergy', 'Cancer'], dtype='object')"
      ]
     },
     "execution_count": 8,
     "metadata": {},
     "output_type": "execute_result"
    }
   ],
   "source": [
    "df.columns"
   ]
  },
  {
   "cell_type": "code",
   "execution_count": 11,
   "id": "796e4514",
   "metadata": {},
   "outputs": [
    {
     "name": "stdout",
     "output_type": "stream",
     "text": [
      "0    5025\n",
      "1    4975\n",
      "Name: Gender, dtype: int64\n",
      "77     146\n",
      "51     142\n",
      "65     142\n",
      "95     140\n",
      "72     139\n",
      "37     138\n",
      "82     137\n",
      "56     136\n",
      "81     135\n",
      "27     135\n",
      "88     134\n",
      "48     133\n",
      "66     132\n",
      "34     131\n",
      "61     131\n",
      "39     131\n",
      "53     130\n",
      "87     129\n",
      "31     129\n",
      "91     127\n",
      "25     127\n",
      "97     127\n",
      "55     125\n",
      "43     125\n",
      "42     125\n",
      "89     125\n",
      "67     125\n",
      "93     125\n",
      "96     125\n",
      "78     125\n",
      "18     124\n",
      "76     124\n",
      "69     123\n",
      "100    122\n",
      "58     121\n",
      "64     121\n",
      "32     120\n",
      "68     120\n",
      "54     119\n",
      "99     119\n",
      "79     119\n",
      "59     119\n",
      "73     118\n",
      "26     118\n",
      "30     118\n",
      "21     118\n",
      "49     118\n",
      "28     117\n",
      "52     117\n",
      "71     117\n",
      "47     117\n",
      "94     117\n",
      "19     117\n",
      "74     117\n",
      "35     117\n",
      "70     117\n",
      "63     116\n",
      "23     116\n",
      "90     115\n",
      "85     115\n",
      "84     115\n",
      "20     115\n",
      "40     115\n",
      "98     114\n",
      "75     114\n",
      "50     113\n",
      "24     111\n",
      "44     111\n",
      "80     109\n",
      "46     109\n",
      "33     109\n",
      "22     109\n",
      "86     107\n",
      "83     106\n",
      "62     106\n",
      "36     106\n",
      "60     106\n",
      "38     106\n",
      "29     104\n",
      "57     104\n",
      "92     102\n",
      "41     101\n",
      "45     101\n",
      "Name: Age, dtype: int64\n",
      "1    5002\n",
      "0    4998\n",
      "Name: Smoking, dtype: int64\n",
      "1    5018\n",
      "0    4982\n",
      "Name: Fatigue, dtype: int64\n",
      "0    5001\n",
      "1    4999\n",
      "Name: Allergy, dtype: int64\n",
      "0    9036\n",
      "1     964\n",
      "Name: Cancer, dtype: int64\n"
     ]
    }
   ],
   "source": [
    "print(df['Gender'].value_counts())\n",
    "print(df['Age'].value_counts())\n",
    "print(df['Smoking'].value_counts())\n",
    "print(df['Fatigue'].value_counts())\n",
    "print(df['Allergy'].value_counts())\n",
    "print(df['Cancer'].value_counts())"
   ]
  },
  {
   "cell_type": "code",
   "execution_count": 17,
   "id": "3197d204",
   "metadata": {},
   "outputs": [
    {
     "data": {
      "text/plain": [
       "<seaborn.axisgrid.PairGrid at 0x1a0cff032b0>"
      ]
     },
     "execution_count": 17,
     "metadata": {},
     "output_type": "execute_result"
    },
    {
     "data": {
      "image/png": "[encoded data removed]",
      "text/plain": [
       "<Figure size 1080x1080 with 42 Axes>"
      ]
     },
     "metadata": {
      "needs_background": "light"
     },
     "output_type": "display_data"
    }
   ],
   "source": [
    "sns.pairplot(df)"
   ]
  },
  {
   "cell_type": "code",
   "execution_count": 18,
   "id": "5b8fdc2f",
   "metadata": {},
   "outputs": [
    {
     "data": {
      "text/html": [
       "<div>\n",
       "<style scoped>\n",
       "    .dataframe tbody tr th:only-of-type {\n",
       "        vertical-align: middle;\n",
       "    }\n",
       "\n",
       "    .dataframe tbody tr th {\n",
       "        vertical-align: top;\n",
       "    }\n",
       "\n",
       "    .dataframe thead th {\n",
       "        text-align: right;\n",
       "    }\n",
       "</style>\n",
       "<table border=\"1\" class=\"dataframe\">\n",
       "  <thead>\n",
       "    <tr style=\"text-align: right;\">\n",
       "      <th></th>\n",
       "      <th>Gender</th>\n",
       "      <th>Age</th>\n",
       "      <th>Smoking</th>\n",
       "      <th>Fatigue</th>\n",
       "      <th>Allergy</th>\n",
       "      <th>Cancer</th>\n",
       "    </tr>\n",
       "  </thead>\n",
       "  <tbody>\n",
       "    <tr>\n",
       "      <th>Gender</th>\n",
       "      <td>1.000000</td>\n",
       "      <td>0.015459</td>\n",
       "      <td>0.007802</td>\n",
       "      <td>-0.011382</td>\n",
       "      <td>-0.007201</td>\n",
       "      <td>-0.014631</td>\n",
       "    </tr>\n",
       "    <tr>\n",
       "      <th>Age</th>\n",
       "      <td>0.015459</td>\n",
       "      <td>1.000000</td>\n",
       "      <td>-0.007384</td>\n",
       "      <td>-0.011392</td>\n",
       "      <td>-0.006372</td>\n",
       "      <td>-0.016963</td>\n",
       "    </tr>\n",
       "    <tr>\n",
       "      <th>Smoking</th>\n",
       "      <td>0.007802</td>\n",
       "      <td>-0.007384</td>\n",
       "      <td>1.000000</td>\n",
       "      <td>0.011199</td>\n",
       "      <td>0.019400</td>\n",
       "      <td>-0.004197</td>\n",
       "    </tr>\n",
       "    <tr>\n",
       "      <th>Fatigue</th>\n",
       "      <td>-0.011382</td>\n",
       "      <td>-0.011392</td>\n",
       "      <td>0.011199</td>\n",
       "      <td>1.000000</td>\n",
       "      <td>0.006201</td>\n",
       "      <td>-0.001854</td>\n",
       "    </tr>\n",
       "    <tr>\n",
       "      <th>Allergy</th>\n",
       "      <td>-0.007201</td>\n",
       "      <td>-0.006372</td>\n",
       "      <td>0.019400</td>\n",
       "      <td>0.006201</td>\n",
       "      <td>1.000000</td>\n",
       "      <td>0.004131</td>\n",
       "    </tr>\n",
       "    <tr>\n",
       "      <th>Cancer</th>\n",
       "      <td>-0.014631</td>\n",
       "      <td>-0.016963</td>\n",
       "      <td>-0.004197</td>\n",
       "      <td>-0.001854</td>\n",
       "      <td>0.004131</td>\n",
       "      <td>1.000000</td>\n",
       "    </tr>\n",
       "  </tbody>\n",
       "</table>\n",
       "</div>"
      ],
      "text/plain": [
       "           Gender       Age   Smoking   Fatigue   Allergy    Cancer\n",
       "Gender   1.000000  0.015459  0.007802 -0.011382 -0.007201 -0.014631\n",
       "Age      0.015459  1.000000 -0.007384 -0.011392 -0.006372 -0.016963\n",
       "Smoking  0.007802 -0.007384  1.000000  0.011199  0.019400 -0.004197\n",
       "Fatigue -0.011382 -0.011392  0.011199  1.000000  0.006201 -0.001854\n",
       "Allergy -0.007201 -0.006372  0.019400  0.006201  1.000000  0.004131\n",
       "Cancer  -0.014631 -0.016963 -0.004197 -0.001854  0.004131  1.000000"
      ]
     },
     "execution_count": 18,
     "metadata": {},
     "output_type": "execute_result"
    }
   ],
   "source": [
    "corr = df.corr()\n",
    "corr"
   ]
  },
  {
   "cell_type": "code",
   "execution_count": 19,
   "id": "482d2aca",
   "metadata": {},
   "outputs": [
    {
     "data": {
      "text/plain": [
       "<AxesSubplot:>"
      ]
     },
     "execution_count": 19,
     "metadata": {},
     "output_type": "execute_result"
    },
    {
     "data": {
      "image/png": "[encoded data removed]",
      "text/plain": [
       "<Figure size 1800x1800 with 2 Axes>"
      ]
     },
     "metadata": {
      "needs_background": "light"
     },
     "output_type": "display_data"
    }
   ],
   "source": [
    "plt.figure(figsize=(25,25))\n",
    "sns.heatmap(corr, annot=True, cmap = 'YlGnBu')"
   ]
  },
  {
   "cell_type": "code",
   "execution_count": 20,
   "id": "233b6086",
   "metadata": {},
   "outputs": [
    {
     "data": {
      "text/html": [
       "<div>\n",
       "<style scoped>\n",
       "    .dataframe tbody tr th:only-of-type {\n",
       "        vertical-align: middle;\n",
       "    }\n",
       "\n",
       "    .dataframe tbody tr th {\n",
       "        vertical-align: top;\n",
       "    }\n",
       "\n",
       "    .dataframe thead th {\n",
       "        text-align: right;\n",
       "    }\n",
       "</style>\n",
       "<table border=\"1\" class=\"dataframe\">\n",
       "  <thead>\n",
       "    <tr style=\"text-align: right;\">\n",
       "      <th></th>\n",
       "      <th>Gender</th>\n",
       "      <th>Age</th>\n",
       "      <th>Smoking</th>\n",
       "      <th>Fatigue</th>\n",
       "      <th>Allergy</th>\n",
       "      <th>Cancer</th>\n",
       "    </tr>\n",
       "  </thead>\n",
       "  <tbody>\n",
       "    <tr>\n",
       "      <th>count</th>\n",
       "      <td>10000.000000</td>\n",
       "      <td>10000.000000</td>\n",
       "      <td>10000.000000</td>\n",
       "      <td>10000.000000</td>\n",
       "      <td>10000.000000</td>\n",
       "      <td>10000.000000</td>\n",
       "    </tr>\n",
       "    <tr>\n",
       "      <th>mean</th>\n",
       "      <td>0.497500</td>\n",
       "      <td>59.318400</td>\n",
       "      <td>0.500200</td>\n",
       "      <td>0.501800</td>\n",
       "      <td>0.499900</td>\n",
       "      <td>0.096400</td>\n",
       "    </tr>\n",
       "    <tr>\n",
       "      <th>std</th>\n",
       "      <td>0.500019</td>\n",
       "      <td>23.908952</td>\n",
       "      <td>0.500025</td>\n",
       "      <td>0.500022</td>\n",
       "      <td>0.500025</td>\n",
       "      <td>0.295154</td>\n",
       "    </tr>\n",
       "    <tr>\n",
       "      <th>min</th>\n",
       "      <td>0.000000</td>\n",
       "      <td>18.000000</td>\n",
       "      <td>0.000000</td>\n",
       "      <td>0.000000</td>\n",
       "      <td>0.000000</td>\n",
       "      <td>0.000000</td>\n",
       "    </tr>\n",
       "    <tr>\n",
       "      <th>25%</th>\n",
       "      <td>0.000000</td>\n",
       "      <td>39.000000</td>\n",
       "      <td>0.000000</td>\n",
       "      <td>0.000000</td>\n",
       "      <td>0.000000</td>\n",
       "      <td>0.000000</td>\n",
       "    </tr>\n",
       "    <tr>\n",
       "      <th>50%</th>\n",
       "      <td>0.000000</td>\n",
       "      <td>60.000000</td>\n",
       "      <td>1.000000</td>\n",
       "      <td>1.000000</td>\n",
       "      <td>0.000000</td>\n",
       "      <td>0.000000</td>\n",
       "    </tr>\n",
       "    <tr>\n",
       "      <th>75%</th>\n",
       "      <td>1.000000</td>\n",
       "      <td>80.000000</td>\n",
       "      <td>1.000000</td>\n",
       "      <td>1.000000</td>\n",
       "      <td>1.000000</td>\n",
       "      <td>0.000000</td>\n",
       "    </tr>\n",
       "    <tr>\n",
       "      <th>max</th>\n",
       "      <td>1.000000</td>\n",
       "      <td>100.000000</td>\n",
       "      <td>1.000000</td>\n",
       "      <td>1.000000</td>\n",
       "      <td>1.000000</td>\n",
       "      <td>1.000000</td>\n",
       "    </tr>\n",
       "  </tbody>\n",
       "</table>\n",
       "</div>"
      ],
      "text/plain": [
       "             Gender           Age       Smoking       Fatigue       Allergy  \\\n",
       "count  10000.000000  10000.000000  10000.000000  10000.000000  10000.000000   \n",
       "mean       0.497500     59.318400      0.500200      0.501800      0.499900   \n",
       "std        0.500019     23.908952      0.500025      0.500022      0.500025   \n",
       "min        0.000000     18.000000      0.000000      0.000000      0.000000   \n",
       "25%        0.000000     39.000000      0.000000      0.000000      0.000000   \n",
       "50%        0.000000     60.000000      1.000000      1.000000      0.000000   \n",
       "75%        1.000000     80.000000      1.000000      1.000000      1.000000   \n",
       "max        1.000000    100.000000      1.000000      1.000000      1.000000   \n",
       "\n",
       "             Cancer  \n",
       "count  10000.000000  \n",
       "mean       0.096400  \n",
       "std        0.295154  \n",
       "min        0.000000  \n",
       "25%        0.000000  \n",
       "50%        0.000000  \n",
       "75%        0.000000  \n",
       "max        1.000000  "
      ]
     },
     "execution_count": 20,
     "metadata": {},
     "output_type": "execute_result"
    }
   ],
   "source": [
    "df.describe()"
   ]
  },
  {
   "cell_type": "code",
   "execution_count": 21,
   "id": "cd9686ab",
   "metadata": {},
   "outputs": [
    {
     "data": {
      "text/html": [
       "<div>\n",
       "<style scoped>\n",
       "    .dataframe tbody tr th:only-of-type {\n",
       "        vertical-align: middle;\n",
       "    }\n",
       "\n",
       "    .dataframe tbody tr th {\n",
       "        vertical-align: top;\n",
       "    }\n",
       "\n",
       "    .dataframe thead th {\n",
       "        text-align: right;\n",
       "    }\n",
       "</style>\n",
       "<table border=\"1\" class=\"dataframe\">\n",
       "  <thead>\n",
       "    <tr style=\"text-align: right;\">\n",
       "      <th></th>\n",
       "      <th>Gender</th>\n",
       "      <th>Age</th>\n",
       "      <th>Smoking</th>\n",
       "      <th>Fatigue</th>\n",
       "      <th>Allergy</th>\n",
       "      <th>Cancer</th>\n",
       "    </tr>\n",
       "  </thead>\n",
       "  <tbody>\n",
       "    <tr>\n",
       "      <th>count</th>\n",
       "      <td>10000.000000</td>\n",
       "      <td>10000.000000</td>\n",
       "      <td>10000.000000</td>\n",
       "      <td>10000.000000</td>\n",
       "      <td>10000.000000</td>\n",
       "      <td>10000.000000</td>\n",
       "    </tr>\n",
       "    <tr>\n",
       "      <th>mean</th>\n",
       "      <td>0.497500</td>\n",
       "      <td>59.318400</td>\n",
       "      <td>0.500200</td>\n",
       "      <td>0.501800</td>\n",
       "      <td>0.499900</td>\n",
       "      <td>0.096400</td>\n",
       "    </tr>\n",
       "    <tr>\n",
       "      <th>std</th>\n",
       "      <td>0.500019</td>\n",
       "      <td>23.908952</td>\n",
       "      <td>0.500025</td>\n",
       "      <td>0.500022</td>\n",
       "      <td>0.500025</td>\n",
       "      <td>0.295154</td>\n",
       "    </tr>\n",
       "    <tr>\n",
       "      <th>min</th>\n",
       "      <td>0.000000</td>\n",
       "      <td>18.000000</td>\n",
       "      <td>0.000000</td>\n",
       "      <td>0.000000</td>\n",
       "      <td>0.000000</td>\n",
       "      <td>0.000000</td>\n",
       "    </tr>\n",
       "    <tr>\n",
       "      <th>25%</th>\n",
       "      <td>0.000000</td>\n",
       "      <td>39.000000</td>\n",
       "      <td>0.000000</td>\n",
       "      <td>0.000000</td>\n",
       "      <td>0.000000</td>\n",
       "      <td>0.000000</td>\n",
       "    </tr>\n",
       "    <tr>\n",
       "      <th>50%</th>\n",
       "      <td>0.000000</td>\n",
       "      <td>60.000000</td>\n",
       "      <td>1.000000</td>\n",
       "      <td>1.000000</td>\n",
       "      <td>0.000000</td>\n",
       "      <td>0.000000</td>\n",
       "    </tr>\n",
       "    <tr>\n",
       "      <th>75%</th>\n",
       "      <td>1.000000</td>\n",
       "      <td>80.000000</td>\n",
       "      <td>1.000000</td>\n",
       "      <td>1.000000</td>\n",
       "      <td>1.000000</td>\n",
       "      <td>0.000000</td>\n",
       "    </tr>\n",
       "    <tr>\n",
       "      <th>max</th>\n",
       "      <td>1.000000</td>\n",
       "      <td>100.000000</td>\n",
       "      <td>1.000000</td>\n",
       "      <td>1.000000</td>\n",
       "      <td>1.000000</td>\n",
       "      <td>1.000000</td>\n",
       "    </tr>\n",
       "  </tbody>\n",
       "</table>\n",
       "</div>"
      ],
      "text/plain": [
       "             Gender           Age       Smoking       Fatigue       Allergy  \\\n",
       "count  10000.000000  10000.000000  10000.000000  10000.000000  10000.000000   \n",
       "mean       0.497500     59.318400      0.500200      0.501800      0.499900   \n",
       "std        0.500019     23.908952      0.500025      0.500022      0.500025   \n",
       "min        0.000000     18.000000      0.000000      0.000000      0.000000   \n",
       "25%        0.000000     39.000000      0.000000      0.000000      0.000000   \n",
       "50%        0.000000     60.000000      1.000000      1.000000      0.000000   \n",
       "75%        1.000000     80.000000      1.000000      1.000000      1.000000   \n",
       "max        1.000000    100.000000      1.000000      1.000000      1.000000   \n",
       "\n",
       "             Cancer  \n",
       "count  10000.000000  \n",
       "mean       0.096400  \n",
       "std        0.295154  \n",
       "min        0.000000  \n",
       "25%        0.000000  \n",
       "50%        0.000000  \n",
       "75%        0.000000  \n",
       "max        1.000000  "
      ]
     },
     "execution_count": 21,
     "metadata": {},
     "output_type": "execute_result"
    }
   ],
   "source": [
    "df.describe(include='all')"
   ]
  },
  {
   "cell_type": "code",
   "execution_count": 22,
   "id": "c674680b",
   "metadata": {},
   "outputs": [
    {
     "data": {
      "text/html": [
       "<div>\n",
       "<style scoped>\n",
       "    .dataframe tbody tr th:only-of-type {\n",
       "        vertical-align: middle;\n",
       "    }\n",
       "\n",
       "    .dataframe tbody tr th {\n",
       "        vertical-align: top;\n",
       "    }\n",
       "\n",
       "    .dataframe thead th {\n",
       "        text-align: right;\n",
       "    }\n",
       "</style>\n",
       "<table border=\"1\" class=\"dataframe\">\n",
       "  <thead>\n",
       "    <tr style=\"text-align: right;\">\n",
       "      <th></th>\n",
       "      <th>8208</th>\n",
       "      <th>2107</th>\n",
       "      <th>92</th>\n",
       "      <th>450</th>\n",
       "      <th>6187</th>\n",
       "      <th>3611</th>\n",
       "      <th>9421</th>\n",
       "      <th>3739</th>\n",
       "      <th>2144</th>\n",
       "      <th>8700</th>\n",
       "    </tr>\n",
       "  </thead>\n",
       "  <tbody>\n",
       "    <tr>\n",
       "      <th>Gender</th>\n",
       "      <td>0</td>\n",
       "      <td>0</td>\n",
       "      <td>1</td>\n",
       "      <td>1</td>\n",
       "      <td>0</td>\n",
       "      <td>1</td>\n",
       "      <td>1</td>\n",
       "      <td>0</td>\n",
       "      <td>1</td>\n",
       "      <td>1</td>\n",
       "    </tr>\n",
       "    <tr>\n",
       "      <th>Age</th>\n",
       "      <td>67</td>\n",
       "      <td>50</td>\n",
       "      <td>21</td>\n",
       "      <td>93</td>\n",
       "      <td>59</td>\n",
       "      <td>59</td>\n",
       "      <td>44</td>\n",
       "      <td>65</td>\n",
       "      <td>91</td>\n",
       "      <td>32</td>\n",
       "    </tr>\n",
       "    <tr>\n",
       "      <th>Smoking</th>\n",
       "      <td>0</td>\n",
       "      <td>1</td>\n",
       "      <td>0</td>\n",
       "      <td>0</td>\n",
       "      <td>1</td>\n",
       "      <td>0</td>\n",
       "      <td>0</td>\n",
       "      <td>0</td>\n",
       "      <td>0</td>\n",
       "      <td>0</td>\n",
       "    </tr>\n",
       "    <tr>\n",
       "      <th>Fatigue</th>\n",
       "      <td>0</td>\n",
       "      <td>0</td>\n",
       "      <td>0</td>\n",
       "      <td>0</td>\n",
       "      <td>0</td>\n",
       "      <td>0</td>\n",
       "      <td>1</td>\n",
       "      <td>1</td>\n",
       "      <td>0</td>\n",
       "      <td>1</td>\n",
       "    </tr>\n",
       "    <tr>\n",
       "      <th>Allergy</th>\n",
       "      <td>1</td>\n",
       "      <td>0</td>\n",
       "      <td>0</td>\n",
       "      <td>1</td>\n",
       "      <td>0</td>\n",
       "      <td>0</td>\n",
       "      <td>0</td>\n",
       "      <td>1</td>\n",
       "      <td>1</td>\n",
       "      <td>1</td>\n",
       "    </tr>\n",
       "    <tr>\n",
       "      <th>Cancer</th>\n",
       "      <td>0</td>\n",
       "      <td>0</td>\n",
       "      <td>0</td>\n",
       "      <td>0</td>\n",
       "      <td>0</td>\n",
       "      <td>0</td>\n",
       "      <td>0</td>\n",
       "      <td>0</td>\n",
       "      <td>0</td>\n",
       "      <td>0</td>\n",
       "    </tr>\n",
       "  </tbody>\n",
       "</table>\n",
       "</div>"
      ],
      "text/plain": [
       "         8208  2107  92    450   6187  3611  9421  3739  2144  8700\n",
       "Gender      0     0     1     1     0     1     1     0     1     1\n",
       "Age        67    50    21    93    59    59    44    65    91    32\n",
       "Smoking     0     1     0     0     1     0     0     0     0     0\n",
       "Fatigue     0     0     0     0     0     0     1     1     0     1\n",
       "Allergy     1     0     0     1     0     0     0     1     1     1\n",
       "Cancer      0     0     0     0     0     0     0     0     0     0"
      ]
     },
     "execution_count": 22,
     "metadata": {},
     "output_type": "execute_result"
    }
   ],
   "source": [
    "df.sample(10).T"
   ]
  },
  {
   "cell_type": "code",
   "execution_count": 23,
   "id": "f5d96541",
   "metadata": {},
   "outputs": [
    {
     "data": {
      "text/plain": [
       "Gender     0\n",
       "Age        0\n",
       "Smoking    0\n",
       "Fatigue    0\n",
       "Allergy    0\n",
       "Cancer     0\n",
       "dtype: int64"
      ]
     },
     "execution_count": 23,
     "metadata": {},
     "output_type": "execute_result"
    }
   ],
   "source": [
    "df.isnull().sum()"
   ]
  },
  {
   "cell_type": "code",
   "execution_count": 26,
   "id": "44a19875",
   "metadata": {},
   "outputs": [
    {
     "name": "stdout",
     "output_type": "stream",
     "text": [
      "<class 'pandas.core.frame.DataFrame'>\n",
      "RangeIndex: 10000 entries, 0 to 9999\n",
      "Data columns (total 6 columns):\n",
      " #   Column   Non-Null Count  Dtype\n",
      "---  ------   --------------  -----\n",
      " 0   Gender   10000 non-null  int64\n",
      " 1   Age      10000 non-null  int64\n",
      " 2   Smoking  10000 non-null  int64\n",
      " 3   Fatigue  10000 non-null  int64\n",
      " 4   Allergy  10000 non-null  int64\n",
      " 5   Cancer   10000 non-null  int64\n",
      "dtypes: int64(6)\n",
      "memory usage: 468.9 KB\n"
     ]
    }
   ],
   "source": [
    "df.info()"
   ]
  },
  {
   "cell_type": "code",
   "execution_count": 28,
   "id": "9d010942",
   "metadata": {},
   "outputs": [
    {
     "data": {
      "text/plain": [
       "(10000, 6)"
      ]
     },
     "execution_count": 28,
     "metadata": {},
     "output_type": "execute_result"
    }
   ],
   "source": [
    "df.shape"
   ]
  },
  {
   "cell_type": "code",
   "execution_count": 29,
   "id": "eda6c09e",
   "metadata": {},
   "outputs": [
    {
     "data": {
      "text/plain": [
       "<AxesSubplot:xlabel='Gender', ylabel='count'>"
      ]
     },
     "execution_count": 29,
     "metadata": {},
     "output_type": "execute_result"
    },
    {
     "data": {
      "image/png": "[encoded data removed]",
      "text/plain": [
       "<Figure size 432x288 with 1 Axes>"
      ]
     },
     "metadata": {
      "needs_background": "light"
     },
     "output_type": "display_data"
    }
   ],
   "source": [
    "sns.countplot(x = 'Gender', hue = 'Cancer', data = df)"
   ]
  },
  {
   "cell_type": "code",
   "execution_count": 30,
   "id": "eebb70c9",
   "metadata": {},
   "outputs": [
    {
     "data": {
      "text/plain": [
       "<AxesSubplot:xlabel='Age', ylabel='count'>"
      ]
     },
     "execution_count": 30,
     "metadata": {},
     "output_type": "execute_result"
    },
    {
     "data": {
      "image/png": "[encoded data removed]",
      "text/plain": [
       "<Figure size 432x288 with 1 Axes>"
      ]
     },
     "metadata": {
      "needs_background": "light"
     },
     "output_type": "display_data"
    }
   ],
   "source": [
    "sns.countplot(x = 'Age', hue = 'Cancer', data = df)"
   ]
  },
  {
   "cell_type": "code",
   "execution_count": 31,
   "id": "47394c02",
   "metadata": {},
   "outputs": [
    {
     "data": {
      "text/plain": [
       "<AxesSubplot:xlabel='Smoking', ylabel='count'>"
      ]
     },
     "execution_count": 31,
     "metadata": {},
     "output_type": "execute_result"
    },
    {
     "data": {
      "image/png": "[encoded data removed]",
      "text/plain": [
       "<Figure size 432x288 with 1 Axes>"
      ]
     },
     "metadata": {
      "needs_background": "light"
     },
     "output_type": "display_data"
    }
   ],
   "source": [
    "sns.countplot(x = 'Smoking', hue = 'Cancer', data = df)"
   ]
  },
  {
   "cell_type": "code",
   "execution_count": 32,
   "id": "b69d7d8c",
   "metadata": {},
   "outputs": [
    {
     "data": {
      "text/plain": [
       "<AxesSubplot:xlabel='Fatigue', ylabel='count'>"
      ]
     },
     "execution_count": 32,
     "metadata": {},
     "output_type": "execute_result"
    },
    {
     "data": {
      "image/png": "[encoded data removed]",
      "text/plain": [
       "<Figure size 432x288 with 1 Axes>"
      ]
     },
     "metadata": {
      "needs_background": "light"
     },
     "output_type": "display_data"
    }
   ],
   "source": [
    "sns.countplot(x = 'Fatigue', hue = 'Cancer', data = df)"
   ]
  },
  {
   "cell_type": "code",
   "execution_count": 33,
   "id": "415e9a60",
   "metadata": {},
   "outputs": [
    {
     "data": {
      "text/plain": [
       "<AxesSubplot:xlabel='Allergy', ylabel='count'>"
      ]
     },
     "execution_count": 33,
     "metadata": {},
     "output_type": "execute_result"
    },
    {
     "data": {
      "image/png": "[encoded data removed]",
      "text/plain": [
       "<Figure size 432x288 with 1 Axes>"
      ]
     },
     "metadata": {
      "needs_background": "light"
     },
     "output_type": "display_data"
    }
   ],
   "source": [
    "sns.countplot(x = 'Allergy', hue = 'Cancer', data = df)"
   ]
  },
  {
   "cell_type": "code",
   "execution_count": 37,
   "id": "ccd7d6c1",
   "metadata": {},
   "outputs": [],
   "source": [
    "df['Allergy'].fillna(df['Allergy'].mode()[0],inplace=True)\n",
    "df['Fatigue'].fillna(df['Fatigue'].mode()[0],inplace=True)\n",
    "df['Smoking'].fillna(df['Smoking'].mode()[0],inplace=True)\n",
    "df['Fatigue'].fillna(df['Fatigue'].mode()[0],inplace=True)"
   ]
  },
  {
   "cell_type": "code",
   "execution_count": 38,
   "id": "55ed6ebf",
   "metadata": {},
   "outputs": [
    {
     "data": {
      "text/plain": [
       "Gender     int64\n",
       "Age        int64\n",
       "Smoking    int64\n",
       "Fatigue    int64\n",
       "Allergy    int64\n",
       "Cancer     int64\n",
       "dtype: object"
      ]
     },
     "execution_count": 38,
     "metadata": {},
     "output_type": "execute_result"
    }
   ],
   "source": [
    "df.dtypes"
   ]
  },
  {
   "cell_type": "code",
   "execution_count": 39,
   "id": "62d1a212",
   "metadata": {},
   "outputs": [
    {
     "data": {
      "text/html": [
       "<div>\n",
       "<style scoped>\n",
       "    .dataframe tbody tr th:only-of-type {\n",
       "        vertical-align: middle;\n",
       "    }\n",
       "\n",
       "    .dataframe tbody tr th {\n",
       "        vertical-align: top;\n",
       "    }\n",
       "\n",
       "    .dataframe thead th {\n",
       "        text-align: right;\n",
       "    }\n",
       "</style>\n",
       "<table border=\"1\" class=\"dataframe\">\n",
       "  <thead>\n",
       "    <tr style=\"text-align: right;\">\n",
       "      <th></th>\n",
       "      <th>6671</th>\n",
       "      <th>6386</th>\n",
       "      <th>5540</th>\n",
       "      <th>2820</th>\n",
       "      <th>1771</th>\n",
       "      <th>80</th>\n",
       "      <th>1048</th>\n",
       "      <th>6021</th>\n",
       "      <th>7934</th>\n",
       "      <th>4530</th>\n",
       "      <th>3496</th>\n",
       "      <th>9859</th>\n",
       "      <th>77</th>\n",
       "      <th>9147</th>\n",
       "      <th>2866</th>\n",
       "      <th>5319</th>\n",
       "      <th>1313</th>\n",
       "      <th>4268</th>\n",
       "      <th>2152</th>\n",
       "      <th>5665</th>\n",
       "      <th>4253</th>\n",
       "      <th>2126</th>\n",
       "      <th>8491</th>\n",
       "      <th>3219</th>\n",
       "      <th>7293</th>\n",
       "      <th>5431</th>\n",
       "      <th>7908</th>\n",
       "      <th>4161</th>\n",
       "      <th>922</th>\n",
       "      <th>7363</th>\n",
       "      <th>9731</th>\n",
       "      <th>8278</th>\n",
       "      <th>1886</th>\n",
       "      <th>7123</th>\n",
       "      <th>3556</th>\n",
       "      <th>8659</th>\n",
       "      <th>7150</th>\n",
       "      <th>2925</th>\n",
       "      <th>8686</th>\n",
       "      <th>2770</th>\n",
       "      <th>4850</th>\n",
       "      <th>3896</th>\n",
       "      <th>3768</th>\n",
       "      <th>5352</th>\n",
       "      <th>9994</th>\n",
       "      <th>6998</th>\n",
       "      <th>2173</th>\n",
       "      <th>509</th>\n",
       "      <th>9824</th>\n",
       "      <th>9376</th>\n",
       "    </tr>\n",
       "  </thead>\n",
       "  <tbody>\n",
       "    <tr>\n",
       "      <th>Gender</th>\n",
       "      <td>0</td>\n",
       "      <td>0</td>\n",
       "      <td>1</td>\n",
       "      <td>0</td>\n",
       "      <td>0</td>\n",
       "      <td>1</td>\n",
       "      <td>0</td>\n",
       "      <td>0</td>\n",
       "      <td>1</td>\n",
       "      <td>0</td>\n",
       "      <td>1</td>\n",
       "      <td>0</td>\n",
       "      <td>0</td>\n",
       "      <td>1</td>\n",
       "      <td>0</td>\n",
       "      <td>1</td>\n",
       "      <td>1</td>\n",
       "      <td>1</td>\n",
       "      <td>0</td>\n",
       "      <td>1</td>\n",
       "      <td>0</td>\n",
       "      <td>0</td>\n",
       "      <td>0</td>\n",
       "      <td>0</td>\n",
       "      <td>0</td>\n",
       "      <td>0</td>\n",
       "      <td>0</td>\n",
       "      <td>0</td>\n",
       "      <td>0</td>\n",
       "      <td>0</td>\n",
       "      <td>1</td>\n",
       "      <td>0</td>\n",
       "      <td>1</td>\n",
       "      <td>0</td>\n",
       "      <td>1</td>\n",
       "      <td>0</td>\n",
       "      <td>1</td>\n",
       "      <td>1</td>\n",
       "      <td>0</td>\n",
       "      <td>0</td>\n",
       "      <td>0</td>\n",
       "      <td>0</td>\n",
       "      <td>1</td>\n",
       "      <td>1</td>\n",
       "      <td>1</td>\n",
       "      <td>1</td>\n",
       "      <td>1</td>\n",
       "      <td>1</td>\n",
       "      <td>0</td>\n",
       "      <td>1</td>\n",
       "    </tr>\n",
       "    <tr>\n",
       "      <th>Age</th>\n",
       "      <td>47</td>\n",
       "      <td>19</td>\n",
       "      <td>20</td>\n",
       "      <td>74</td>\n",
       "      <td>52</td>\n",
       "      <td>33</td>\n",
       "      <td>35</td>\n",
       "      <td>71</td>\n",
       "      <td>56</td>\n",
       "      <td>75</td>\n",
       "      <td>51</td>\n",
       "      <td>72</td>\n",
       "      <td>56</td>\n",
       "      <td>76</td>\n",
       "      <td>50</td>\n",
       "      <td>97</td>\n",
       "      <td>55</td>\n",
       "      <td>38</td>\n",
       "      <td>71</td>\n",
       "      <td>54</td>\n",
       "      <td>22</td>\n",
       "      <td>81</td>\n",
       "      <td>55</td>\n",
       "      <td>73</td>\n",
       "      <td>47</td>\n",
       "      <td>82</td>\n",
       "      <td>96</td>\n",
       "      <td>82</td>\n",
       "      <td>70</td>\n",
       "      <td>86</td>\n",
       "      <td>18</td>\n",
       "      <td>33</td>\n",
       "      <td>64</td>\n",
       "      <td>77</td>\n",
       "      <td>48</td>\n",
       "      <td>84</td>\n",
       "      <td>62</td>\n",
       "      <td>96</td>\n",
       "      <td>95</td>\n",
       "      <td>26</td>\n",
       "      <td>90</td>\n",
       "      <td>43</td>\n",
       "      <td>93</td>\n",
       "      <td>62</td>\n",
       "      <td>20</td>\n",
       "      <td>71</td>\n",
       "      <td>58</td>\n",
       "      <td>85</td>\n",
       "      <td>24</td>\n",
       "      <td>20</td>\n",
       "    </tr>\n",
       "    <tr>\n",
       "      <th>Smoking</th>\n",
       "      <td>0</td>\n",
       "      <td>0</td>\n",
       "      <td>0</td>\n",
       "      <td>0</td>\n",
       "      <td>1</td>\n",
       "      <td>1</td>\n",
       "      <td>1</td>\n",
       "      <td>1</td>\n",
       "      <td>0</td>\n",
       "      <td>0</td>\n",
       "      <td>0</td>\n",
       "      <td>0</td>\n",
       "      <td>0</td>\n",
       "      <td>1</td>\n",
       "      <td>0</td>\n",
       "      <td>1</td>\n",
       "      <td>1</td>\n",
       "      <td>1</td>\n",
       "      <td>0</td>\n",
       "      <td>1</td>\n",
       "      <td>0</td>\n",
       "      <td>1</td>\n",
       "      <td>1</td>\n",
       "      <td>1</td>\n",
       "      <td>0</td>\n",
       "      <td>1</td>\n",
       "      <td>1</td>\n",
       "      <td>0</td>\n",
       "      <td>1</td>\n",
       "      <td>0</td>\n",
       "      <td>1</td>\n",
       "      <td>0</td>\n",
       "      <td>1</td>\n",
       "      <td>0</td>\n",
       "      <td>1</td>\n",
       "      <td>0</td>\n",
       "      <td>0</td>\n",
       "      <td>0</td>\n",
       "      <td>0</td>\n",
       "      <td>0</td>\n",
       "      <td>1</td>\n",
       "      <td>1</td>\n",
       "      <td>0</td>\n",
       "      <td>1</td>\n",
       "      <td>1</td>\n",
       "      <td>1</td>\n",
       "      <td>0</td>\n",
       "      <td>0</td>\n",
       "      <td>1</td>\n",
       "      <td>0</td>\n",
       "    </tr>\n",
       "    <tr>\n",
       "      <th>Fatigue</th>\n",
       "      <td>1</td>\n",
       "      <td>1</td>\n",
       "      <td>0</td>\n",
       "      <td>1</td>\n",
       "      <td>1</td>\n",
       "      <td>0</td>\n",
       "      <td>1</td>\n",
       "      <td>0</td>\n",
       "      <td>0</td>\n",
       "      <td>0</td>\n",
       "      <td>1</td>\n",
       "      <td>0</td>\n",
       "      <td>1</td>\n",
       "      <td>0</td>\n",
       "      <td>0</td>\n",
       "      <td>1</td>\n",
       "      <td>0</td>\n",
       "      <td>0</td>\n",
       "      <td>1</td>\n",
       "      <td>1</td>\n",
       "      <td>0</td>\n",
       "      <td>1</td>\n",
       "      <td>1</td>\n",
       "      <td>0</td>\n",
       "      <td>1</td>\n",
       "      <td>1</td>\n",
       "      <td>0</td>\n",
       "      <td>1</td>\n",
       "      <td>1</td>\n",
       "      <td>1</td>\n",
       "      <td>1</td>\n",
       "      <td>1</td>\n",
       "      <td>1</td>\n",
       "      <td>0</td>\n",
       "      <td>0</td>\n",
       "      <td>0</td>\n",
       "      <td>0</td>\n",
       "      <td>1</td>\n",
       "      <td>0</td>\n",
       "      <td>1</td>\n",
       "      <td>1</td>\n",
       "      <td>1</td>\n",
       "      <td>0</td>\n",
       "      <td>0</td>\n",
       "      <td>0</td>\n",
       "      <td>0</td>\n",
       "      <td>0</td>\n",
       "      <td>0</td>\n",
       "      <td>1</td>\n",
       "      <td>0</td>\n",
       "    </tr>\n",
       "    <tr>\n",
       "      <th>Allergy</th>\n",
       "      <td>0</td>\n",
       "      <td>1</td>\n",
       "      <td>1</td>\n",
       "      <td>1</td>\n",
       "      <td>1</td>\n",
       "      <td>0</td>\n",
       "      <td>1</td>\n",
       "      <td>1</td>\n",
       "      <td>1</td>\n",
       "      <td>1</td>\n",
       "      <td>1</td>\n",
       "      <td>1</td>\n",
       "      <td>0</td>\n",
       "      <td>0</td>\n",
       "      <td>0</td>\n",
       "      <td>0</td>\n",
       "      <td>1</td>\n",
       "      <td>1</td>\n",
       "      <td>0</td>\n",
       "      <td>1</td>\n",
       "      <td>1</td>\n",
       "      <td>1</td>\n",
       "      <td>1</td>\n",
       "      <td>0</td>\n",
       "      <td>1</td>\n",
       "      <td>0</td>\n",
       "      <td>0</td>\n",
       "      <td>0</td>\n",
       "      <td>1</td>\n",
       "      <td>0</td>\n",
       "      <td>0</td>\n",
       "      <td>0</td>\n",
       "      <td>1</td>\n",
       "      <td>0</td>\n",
       "      <td>1</td>\n",
       "      <td>0</td>\n",
       "      <td>0</td>\n",
       "      <td>1</td>\n",
       "      <td>1</td>\n",
       "      <td>1</td>\n",
       "      <td>1</td>\n",
       "      <td>0</td>\n",
       "      <td>0</td>\n",
       "      <td>0</td>\n",
       "      <td>0</td>\n",
       "      <td>0</td>\n",
       "      <td>0</td>\n",
       "      <td>0</td>\n",
       "      <td>1</td>\n",
       "      <td>0</td>\n",
       "    </tr>\n",
       "    <tr>\n",
       "      <th>Cancer</th>\n",
       "      <td>0</td>\n",
       "      <td>1</td>\n",
       "      <td>0</td>\n",
       "      <td>0</td>\n",
       "      <td>0</td>\n",
       "      <td>1</td>\n",
       "      <td>1</td>\n",
       "      <td>0</td>\n",
       "      <td>0</td>\n",
       "      <td>0</td>\n",
       "      <td>0</td>\n",
       "      <td>0</td>\n",
       "      <td>0</td>\n",
       "      <td>0</td>\n",
       "      <td>0</td>\n",
       "      <td>0</td>\n",
       "      <td>0</td>\n",
       "      <td>1</td>\n",
       "      <td>0</td>\n",
       "      <td>0</td>\n",
       "      <td>1</td>\n",
       "      <td>0</td>\n",
       "      <td>1</td>\n",
       "      <td>0</td>\n",
       "      <td>1</td>\n",
       "      <td>0</td>\n",
       "      <td>0</td>\n",
       "      <td>0</td>\n",
       "      <td>0</td>\n",
       "      <td>0</td>\n",
       "      <td>0</td>\n",
       "      <td>0</td>\n",
       "      <td>0</td>\n",
       "      <td>0</td>\n",
       "      <td>0</td>\n",
       "      <td>0</td>\n",
       "      <td>0</td>\n",
       "      <td>0</td>\n",
       "      <td>0</td>\n",
       "      <td>0</td>\n",
       "      <td>0</td>\n",
       "      <td>0</td>\n",
       "      <td>0</td>\n",
       "      <td>0</td>\n",
       "      <td>0</td>\n",
       "      <td>0</td>\n",
       "      <td>0</td>\n",
       "      <td>0</td>\n",
       "      <td>0</td>\n",
       "      <td>0</td>\n",
       "    </tr>\n",
       "  </tbody>\n",
       "</table>\n",
       "</div>"
      ],
      "text/plain": [
       "         6671  6386  5540  2820  1771  80    1048  6021  7934  4530  3496  \\\n",
       "Gender      0     0     1     0     0     1     0     0     1     0     1   \n",
       "Age        47    19    20    74    52    33    35    71    56    75    51   \n",
       "Smoking     0     0     0     0     1     1     1     1     0     0     0   \n",
       "Fatigue     1     1     0     1     1     0     1     0     0     0     1   \n",
       "Allergy     0     1     1     1     1     0     1     1     1     1     1   \n",
       "Cancer      0     1     0     0     0     1     1     0     0     0     0   \n",
       "\n",
       "         9859  77    9147  2866  5319  1313  4268  2152  5665  4253  2126  \\\n",
       "Gender      0     0     1     0     1     1     1     0     1     0     0   \n",
       "Age        72    56    76    50    97    55    38    71    54    22    81   \n",
       "Smoking     0     0     1     0     1     1     1     0     1     0     1   \n",
       "Fatigue     0     1     0     0     1     0     0     1     1     0     1   \n",
       "Allergy     1     0     0     0     0     1     1     0     1     1     1   \n",
       "Cancer      0     0     0     0     0     0     1     0     0     1     0   \n",
       "\n",
       "         8491  3219  7293  5431  7908  4161  922   7363  9731  8278  1886  \\\n",
       "Gender      0     0     0     0     0     0     0     0     1     0     1   \n",
       "Age        55    73    47    82    96    82    70    86    18    33    64   \n",
       "Smoking     1     1     0     1     1     0     1     0     1     0     1   \n",
       "Fatigue     1     0     1     1     0     1     1     1     1     1     1   \n",
       "Allergy     1     0     1     0     0     0     1     0     0     0     1   \n",
       "Cancer      1     0     1     0     0     0     0     0     0     0     0   \n",
       "\n",
       "         7123  3556  8659  7150  2925  8686  2770  4850  3896  3768  5352  \\\n",
       "Gender      0     1     0     1     1     0     0     0     0     1     1   \n",
       "Age        77    48    84    62    96    95    26    90    43    93    62   \n",
       "Smoking     0     1     0     0     0     0     0     1     1     0     1   \n",
       "Fatigue     0     0     0     0     1     0     1     1     1     0     0   \n",
       "Allergy     0     1     0     0     1     1     1     1     0     0     0   \n",
       "Cancer      0     0     0     0     0     0     0     0     0     0     0   \n",
       "\n",
       "         9994  6998  2173  509   9824  9376  \n",
       "Gender      1     1     1     1     0     1  \n",
       "Age        20    71    58    85    24    20  \n",
       "Smoking     1     1     0     0     1     0  \n",
       "Fatigue     0     0     0     0     1     0  \n",
       "Allergy     0     0     0     0     1     0  \n",
       "Cancer      0     0     0     0     0     0  "
      ]
     },
     "execution_count": 39,
     "metadata": {},
     "output_type": "execute_result"
    }
   ],
   "source": [
    "df.sample(50).T"
   ]
  },
  {
   "cell_type": "markdown",
   "id": "a54c588c",
   "metadata": {},
   "source": [
    "# Spliting of data"
   ]
  },
  {
   "cell_type": "code",
   "execution_count": 40,
   "id": "71927f7c",
   "metadata": {},
   "outputs": [],
   "source": [
    "x = df.drop(['Cancer'], axis=1)\n",
    "y=df['Cancer']"
   ]
  },
  {
   "cell_type": "code",
   "execution_count": 41,
   "id": "fa211182",
   "metadata": {},
   "outputs": [],
   "source": [
    "x_train,x_test,y_train,y_test=train_test_split(x,y,test_size=0.3,random_state=0)"
   ]
  },
  {
   "cell_type": "code",
   "execution_count": 42,
   "id": "94cc9fe2",
   "metadata": {},
   "outputs": [],
   "source": [
    "model=LogisticRegression(solver='liblinear')"
   ]
  },
  {
   "cell_type": "code",
   "execution_count": 43,
   "id": "f98d0717",
   "metadata": {},
   "outputs": [
    {
     "data": {
      "text/plain": [
       "LogisticRegression(solver='liblinear')"
      ]
     },
     "execution_count": 43,
     "metadata": {},
     "output_type": "execute_result"
    }
   ],
   "source": [
    "model.fit(x_train,y_train)"
   ]
  },
  {
   "cell_type": "code",
   "execution_count": 44,
   "id": "5532803f",
   "metadata": {},
   "outputs": [
    {
     "data": {
      "text/plain": [
       "0.9038571428571428"
      ]
     },
     "execution_count": 44,
     "metadata": {},
     "output_type": "execute_result"
    }
   ],
   "source": [
    "model.score(x_train,y_train)"
   ]
  },
  {
   "cell_type": "code",
   "execution_count": 45,
   "id": "8fac4857",
   "metadata": {},
   "outputs": [
    {
     "data": {
      "text/plain": [
       "0.903"
      ]
     },
     "execution_count": 45,
     "metadata": {},
     "output_type": "execute_result"
    }
   ],
   "source": [
    "model.score(x_test,y_test)"
   ]
  },
  {
   "cell_type": "code",
   "execution_count": 46,
   "id": "de3a4314",
   "metadata": {},
   "outputs": [
    {
     "data": {
      "text/plain": [
       "DecisionTreeClassifier()"
      ]
     },
     "execution_count": 46,
     "metadata": {},
     "output_type": "execute_result"
    }
   ],
   "source": [
    "dtree = DecisionTreeClassifier(criterion='gini')\n",
    "dtree.fit(x_train,y_train)"
   ]
  },
  {
   "cell_type": "code",
   "execution_count": 47,
   "id": "15592946",
   "metadata": {},
   "outputs": [
    {
     "data": {
      "text/plain": [
       "0.9052857142857142"
      ]
     },
     "execution_count": 47,
     "metadata": {},
     "output_type": "execute_result"
    }
   ],
   "source": [
    "dtree.score(x_train,y_train)"
   ]
  },
  {
   "cell_type": "code",
   "execution_count": 49,
   "id": "d88009b3",
   "metadata": {},
   "outputs": [
    {
     "data": {
      "text/plain": [
       "0.8963333333333333"
      ]
     },
     "execution_count": 49,
     "metadata": {},
     "output_type": "execute_result"
    }
   ],
   "source": [
    "dtree.score(x_test,y_test)"
   ]
  },
  {
   "cell_type": "markdown",
   "id": "d136cef9",
   "metadata": {},
   "source": [
    "# Making predictions\n"
   ]
  },
  {
   "cell_type": "markdown",
   "id": "cebbe405",
   "metadata": {},
   "source": [
    "### Cecision Tree Classifier"
   ]
  },
  {
   "cell_type": "code",
   "execution_count": 50,
   "id": "baf544fc",
   "metadata": {},
   "outputs": [
    {
     "name": "stdout",
     "output_type": "stream",
     "text": [
      "0.9038571428571428\n"
     ]
    }
   ],
   "source": [
    "dTreeR = DecisionTreeClassifier(criterion ='gini',max_depth = 3, random_state = 0)\n",
    "dTreeR.fit(x_train, y_train)\n",
    "print(dTreeR.score(x_train, y_train))"
   ]
  },
  {
   "cell_type": "code",
   "execution_count": 51,
   "id": "90f4d7d0",
   "metadata": {},
   "outputs": [],
   "source": [
    "y_predict = dTreeR.predict(x_test)"
   ]
  },
  {
   "cell_type": "code",
   "execution_count": 52,
   "id": "9c6387e7",
   "metadata": {},
   "outputs": [
    {
     "name": "stdout",
     "output_type": "stream",
     "text": [
      "0.903\n"
     ]
    }
   ],
   "source": [
    "print(dTreeR.score(x_test,y_test))"
   ]
  },
  {
   "cell_type": "markdown",
   "id": "8f6442e3",
   "metadata": {},
   "source": [
    "# Confusion Martix with decision tree classifier "
   ]
  },
  {
   "cell_type": "code",
   "execution_count": 53,
   "id": "dc5fbc84",
   "metadata": {},
   "outputs": [],
   "source": [
    "from sklearn import metrics"
   ]
  },
  {
   "cell_type": "code",
   "execution_count": 54,
   "id": "822f2773",
   "metadata": {},
   "outputs": [
    {
     "data": {
      "text/plain": [
       "<AxesSubplot:xlabel='None'>"
      ]
     },
     "execution_count": 54,
     "metadata": {},
     "output_type": "execute_result"
    },
    {
     "data": {
      "image/png": "[encoded data removed]",
      "text/plain": [
       "<Figure size 504x360 with 2 Axes>"
      ]
     },
     "metadata": {
      "needs_background": "light"
     },
     "output_type": "display_data"
    }
   ],
   "source": [
    "cm = metrics.confusion_matrix(y_test, y_predict, labels=[0,1])\n",
    "\n",
    "df_cm = pd.DataFrame(cm, index = [i for i in ['No', 'Yes']], columns = [i for i in [['No', 'Yes']]])\n",
    "\n",
    "plt.figure(figsize = (7,5))\n",
    "sns.heatmap(df_cm, annot = True, fmt = 'g')"
   ]
  },
  {
   "cell_type": "code",
   "execution_count": 55,
   "id": "26aaf4e6",
   "metadata": {},
   "outputs": [
    {
     "data": {
      "text/plain": [
       "3000"
      ]
     },
     "execution_count": 55,
     "metadata": {},
     "output_type": "execute_result"
    }
   ],
   "source": [
    "2709+291"
   ]
  },
  {
   "cell_type": "code",
   "execution_count": 56,
   "id": "74d52b80",
   "metadata": {},
   "outputs": [
    {
     "data": {
      "text/plain": [
       "(10000, 6)"
      ]
     },
     "execution_count": 56,
     "metadata": {},
     "output_type": "execute_result"
    }
   ],
   "source": [
    "df.shape"
   ]
  },
  {
   "cell_type": "code",
   "execution_count": 57,
   "id": "5c51e0b3",
   "metadata": {},
   "outputs": [
    {
     "data": {
      "text/plain": [
       "3000.0"
      ]
     },
     "execution_count": 57,
     "metadata": {},
     "output_type": "execute_result"
    }
   ],
   "source": [
    "10000*0.3"
   ]
  },
  {
   "cell_type": "markdown",
   "id": "e06ac1e6",
   "metadata": {},
   "source": [
    "### Confusion Martix with adaboost classifier"
   ]
  },
  {
   "cell_type": "code",
   "execution_count": 58,
   "id": "342d8030",
   "metadata": {},
   "outputs": [
    {
     "name": "stdout",
     "output_type": "stream",
     "text": [
      "0.903\n"
     ]
    }
   ],
   "source": [
    "from sklearn.ensemble import AdaBoostClassifier\n",
    "abcl = AdaBoostClassifier(n_estimators = 120, random_state=0)\n",
    "abcl = abcl.fit(x_train,y_train)\n",
    "y_predict = abcl.predict(x_test)\n",
    "print(abcl.score(x_test,y_test))"
   ]
  },
  {
   "cell_type": "code",
   "execution_count": 59,
   "id": "4c4454d2",
   "metadata": {},
   "outputs": [
    {
     "data": {
      "text/plain": [
       "<AxesSubplot:xlabel='None'>"
      ]
     },
     "execution_count": 59,
     "metadata": {},
     "output_type": "execute_result"
    },
    {
     "data": {
      "image/png": "[encoded data removed]",
      "text/plain": [
       "<Figure size 504x360 with 2 Axes>"
      ]
     },
     "metadata": {
      "needs_background": "light"
     },
     "output_type": "display_data"
    }
   ],
   "source": [
    "cm = metrics.confusion_matrix(y_test, y_predict, labels=[0,1])\n",
    "\n",
    "df_cm = pd.DataFrame(cm, index = [i for i in ['No', 'Yes']], columns = [i for i in [['No', 'Yes']]])\n",
    "\n",
    "plt.figure(figsize = (7,5))\n",
    "sns.heatmap(df_cm, annot = True, fmt = 'g')"
   ]
  },
  {
   "cell_type": "markdown",
   "id": "94c4154a",
   "metadata": {},
   "source": [
    "### Bagging classifier"
   ]
  },
  {
   "cell_type": "code",
   "execution_count": 60,
   "id": "33ae8e0e",
   "metadata": {},
   "outputs": [
    {
     "name": "stdout",
     "output_type": "stream",
     "text": [
      "0.9038571428571428\n",
      "0.903\n"
     ]
    }
   ],
   "source": [
    "from sklearn.ensemble import BaggingClassifier\n",
    "bgcl = BaggingClassifier(n_estimators = 100,\n",
    "    max_samples=1.0,\n",
    "    max_features=1.0,\n",
    "    bootstrap=True,\n",
    "    bootstrap_features=True,\n",
    "    oob_score=False,\n",
    "    warm_start=False,\n",
    "    n_jobs=None,\n",
    "    random_state=None,\n",
    "    verbose=0,)\n",
    "bgcl = bgcl.fit(x_train,y_train)\n",
    "y_predict = bgcl.predict(x_test)\n",
    "print(bgcl.score(x_train,y_train))\n",
    "print(bgcl.score(x_test,y_test))"
   ]
  },
  {
   "cell_type": "markdown",
   "id": "4d870cf9",
   "metadata": {},
   "source": [
    "### Gradient boosting classifier"
   ]
  },
  {
   "cell_type": "code",
   "execution_count": 62,
   "id": "b5a4c34c",
   "metadata": {},
   "outputs": [
    {
     "name": "stdout",
     "output_type": "stream",
     "text": [
      "0.9038571428571428\n",
      "0.903\n"
     ]
    }
   ],
   "source": [
    "from sklearn.ensemble import GradientBoostingClassifier\n",
    "gbcl = GradientBoostingClassifier()\n",
    "gbcl = gbcl.fit(x_train,y_train)\n",
    "y_predict = gbcl.predict(x_test)\n",
    "print(gbcl.score(x_train,y_train))\n",
    "print(gbcl.score(x_test,y_test))"
   ]
  },
  {
   "cell_type": "markdown",
   "id": "1919b07b",
   "metadata": {},
   "source": [
    "### Random forest classifier"
   ]
  },
  {
   "cell_type": "code",
   "execution_count": 61,
   "id": "02bef29f",
   "metadata": {},
   "outputs": [
    {
     "name": "stdout",
     "output_type": "stream",
     "text": [
      "0.9051428571428571\n",
      "0.8956666666666667\n"
     ]
    }
   ],
   "source": [
    "from sklearn.ensemble import RandomForestClassifier\n",
    "rfcl = RandomForestClassifier( max_depth=None,\n",
    "    min_samples_split=2,\n",
    "    min_samples_leaf=1,\n",
    "    min_weight_fraction_leaf=0.0,\n",
    "    max_features='auto',\n",
    "    max_leaf_nodes=None,\n",
    "    min_impurity_decrease=0.0,\n",
    "    n_estimators=10,\n",
    "    criterion='gini',                          \n",
    "    bootstrap=True,\n",
    "    oob_score=False,\n",
    "    n_jobs=None,\n",
    "    random_state=None,\n",
    "    verbose=0,\n",
    "    warm_start=False,\n",
    "    class_weight=None,\n",
    "    ccp_alpha=0.0,\n",
    "    max_samples=None,)\n",
    "rfcl = rfcl.fit(x_train,y_train)\n",
    "y_predict = rfcl.predict(x_test)\n",
    "print(rfcl.score(x_train,y_train))\n",
    "print(rfcl.score(x_test,y_test))"
   ]
  },
  {
   "cell_type": "markdown",
   "id": "7a516d85",
   "metadata": {},
   "source": [
    "### SVC"
   ]
  },
  {
   "cell_type": "code",
   "execution_count": 63,
   "id": "a36a8392",
   "metadata": {},
   "outputs": [
    {
     "name": "stdout",
     "output_type": "stream",
     "text": [
      "0.9038571428571428\n",
      "0.903\n"
     ]
    }
   ],
   "source": [
    "from sklearn.svm import SVC\n",
    "svcl = SVC()\n",
    "svcl = svcl.fit(x_train, y_train)\n",
    "y_predict = svcl.predict(x_test)\n",
    "print(svcl.score(x_train,y_train))\n",
    "print(svcl.score(x_test,y_test))"
   ]
  }
 ],
 "metadata": {
  "kernelspec": {
   "display_name": "Python 3 (ipykernel)",
   "language": "python",
   "name": "python3"
  },
  "language_info": {
   "codemirror_mode": {
    "name": "ipython",
    "version": 3
   },
   "file_extension": ".py",
   "mimetype": "text/x-python",
   "name": "python",
   "nbconvert_exporter": "python",
   "pygments_lexer": "ipython3",
   "version": "3.9.12"
  }
 },
 "nbformat": 4,
 "nbformat_minor": 5
}
